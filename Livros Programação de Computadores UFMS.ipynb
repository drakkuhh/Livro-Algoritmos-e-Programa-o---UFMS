{
 "cells": [
  {
   "cell_type": "markdown",
   "id": "f8045e6e-9949-4830-b369-9650ec0b275b",
   "metadata": {},
   "source": [
    "h1 Primeiros passos na programação\n",
    "\n",
    "\"\"\"\n",
    "===============================================================\n",
    "Nome do Programa : ola_mundo.py\n",
    "Descrição        : Começando do zero em Python\n",
    "\n",
    "Livro            : Programação de Computadore I - Faculdade de Computação UFMS - 2009\n",
    "Autor            : Fábio Henrique Viduani Martinez\n",
    "Página           : 42\n",
    "\n",
    "Autor            : Roberto L. R. Junior\n",
    "Data da Criação  : 2025-09-05\n",
    "Última Versão    : 1.0.0\n",
    "Licença          : MIT\n",
    "Repositório      : https://github.com/usuario/repositorio\n",
    "===============================================================\n",
    "\"\"\""
   ]
  },
  {
   "cell_type": "code",
   "execution_count": 1,
   "id": "a0a752ad-89d9-4d8d-904e-d65edea8c9aa",
   "metadata": {},
   "outputs": [
    {
     "name": "stdout",
     "output_type": "stream",
     "text": [
      "olá mundo\n",
      "\n"
     ]
    }
   ],
   "source": [
    "\"\"\"\n",
    "===============================================================\n",
    "Nome do Programa : ola_mundo.py\n",
    "Descrição        : Começando do zero em Python\n",
    "\n",
    "Livro            : Programação de Computadore I - Faculdade de Computação UFMS - 2009\n",
    "Autor            : Fábio Henrique Viduani Martinez\n",
    "Página           : 34\n",
    "\n",
    "Autor            : Roberto L. R. Junior\n",
    "Data da Criação  : 2025-09-05\n",
    "Última Versão    : 1.0.0\n",
    "Licença          : MIT\n",
    "Repositório      : https://github.com/usuario/repositorio\n",
    "===============================================================\n",
    "\"\"\"\n",
    "\n",
    "def ola_mundo():\n",
    "    print('olá mundo\\n')\n",
    "\n",
    "ola_mundo()"
   ]
  },
  {
   "cell_type": "code",
   "execution_count": 4,
   "id": "ff53c715-3661-463d-b57b-6105a463a4d6",
   "metadata": {},
   "outputs": [
    {
     "name": "stdin",
     "output_type": "stream",
     "text": [
      "entre com o primeiro valor da soma:  45\n",
      "entre com o segundo valor da soma:  15\n"
     ]
    },
    {
     "name": "stdout",
     "output_type": "stream",
     "text": [
      "\n",
      "O resultado da operação é:  60\n"
     ]
    }
   ],
   "source": [
    "\"\"\"\n",
    "===============================================================\n",
    "Nome do Programa : soma.py\n",
    "Descrição        : Somando números\n",
    "\n",
    "Livro            : Programação de Computadore I - Faculdade de Computação UFMS - 2009\n",
    "Autor            : Fábio Henrique Viduani Martinez\n",
    "Página           : 36\n",
    "\n",
    "Autor            : Roberto L. R. Junior\n",
    "Data da Criação  : 2025-09-05\n",
    "Última Versão    : 1.0.0\n",
    "Licença          : MIT\n",
    "Repositório      : https://github.com/usuario/repositorio\n",
    "===============================================================\n",
    "\"\"\"\n",
    "\n",
    "def soma_dois_num(num_a, num_b):\n",
    "    soma = a + b\n",
    "    return soma\n",
    "\n",
    "a = int(input('entre com o primeiro valor da soma: '))\n",
    "b = int(input('entre com o segundo valor da soma: '))\n",
    "\n",
    "result = soma_dois_num(a, b)\n",
    "\n",
    "print(f'\\nO resultado da operação é: ', result)"
   ]
  },
  {
   "cell_type": "code",
   "execution_count": null,
   "id": "61ec3edb-34ae-49f0-957a-8437d2168300",
   "metadata": {},
   "outputs": [],
   "source": [
    "\"\"\"\n",
    "===============================================================\n",
    "Nome do Programa : ola_mundo.py\n",
    "Descrição        : Começando do zero em Python\n",
    "\n",
    "Livro            : Programação de Computadore I - Faculdade de Computação UFMS - 2009\n",
    "Autor            : Fábio Henrique Viduani Martinez\n",
    "Página           : 42\n",
    "\n",
    "Autor            : Roberto L. R. Junior\n",
    "Data da Criação  : 2025-09-05\n",
    "Última Versão    : 1.0.0\n",
    "Licença          : MIT\n",
    "Repositório      : https://github.com/usuario/repositorio\n",
    "===============================================================\n",
    "\"\"\""
   ]
  }
 ],
 "metadata": {
  "kernelspec": {
   "display_name": "Python 3 (ipykernel)",
   "language": "python",
   "name": "python3"
  },
  "language_info": {
   "codemirror_mode": {
    "name": "ipython",
    "version": 3
   },
   "file_extension": ".py",
   "mimetype": "text/x-python",
   "name": "python",
   "nbconvert_exporter": "python",
   "pygments_lexer": "ipython3",
   "version": "3.11.7"
  }
 },
 "nbformat": 4,
 "nbformat_minor": 5
}
